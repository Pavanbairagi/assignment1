{
 "cells": [
  {
   "cell_type": "code",
   "execution_count": 1,
   "id": "0a77b7fb-33e4-405e-96b2-1657f16dfac1",
   "metadata": {},
   "outputs": [
    {
     "data": {
      "text/plain": [
       "'Thsi is \\na multi line\\ncomment'"
      ]
     },
     "execution_count": 1,
     "metadata": {},
     "output_type": "execute_result"
    }
   ],
   "source": [
    "#Q1. How do you comment code in Python? What are the different types of comments?\n",
    "#Ans. In Python, we can use the # symbol to start a comment. Everything after the # on that line is considered a comment and is ignored by the Python interpreter.\n",
    "#There's also a multiline comment style using triple-quotes (''' or \"\"\"), although it's not adedicated syntax for comments, but it serves the purpose: \n",
    "#Example:-\n",
    "#this is a single line comment.\n",
    "\"\"\"Thsi is \n",
    "a multi line\n",
    "comment\"\"\""
   ]
  },
  {
   "cell_type": "code",
   "execution_count": 6,
   "id": "90eebe87-d681-47b6-b075-d8b007eb3050",
   "metadata": {},
   "outputs": [],
   "source": [
    "\"\"\"Q2. What are variables in Python? How do you declare and assign values to variables?\n",
    "Ans. variables are used to store and manage data. To declare a variable, you simply choose a name and use the = operator to assign a value to it.\n",
    "\"\"\"\n",
    "#Example:-\n",
    "var_1 = \"Hello Pavan\"\n",
    "var_2 = 4553\n",
    "var_3 = 5.544\n",
    "var_4 = True\n",
    "var_5 = False\n"
   ]
  },
  {
   "cell_type": "code",
   "execution_count": 10,
   "id": "74917d1d-f164-4126-9ff8-56b111c772df",
   "metadata": {},
   "outputs": [
    {
     "name": "stdout",
     "output_type": "stream",
     "text": [
      "Hello Pavan 4553 5.544 True False\n"
     ]
    }
   ],
   "source": [
    "print(var_1 , var_2 ,var_3,var_4,var_5)"
   ]
  },
  {
   "cell_type": "code",
   "execution_count": 11,
   "id": "fd491ff8-8a29-495f-8c7e-41ac5846268f",
   "metadata": {},
   "outputs": [],
   "source": [
    "#Q3. How do you convert one data type to another in Python?\n",
    "#Ans. In Python, We can convert one data type to another using type conversion functions.\n",
    "#Example:-\n",
    "X = int(45.44)\n",
    "Y = float(45)\n",
    "Z =str(42)\n",
    "L = list((1,2,3))\n"
   ]
  },
  {
   "cell_type": "code",
   "execution_count": 16,
   "id": "587695ae-5772-45b5-8492-99cc2ab360a3",
   "metadata": {},
   "outputs": [
    {
     "data": {
      "text/plain": [
       "int"
      ]
     },
     "execution_count": 16,
     "metadata": {},
     "output_type": "execute_result"
    }
   ],
   "source": [
    "type(X)"
   ]
  },
  {
   "cell_type": "code",
   "execution_count": 17,
   "id": "9120606f-8bb7-4566-b251-bd3d828394b5",
   "metadata": {},
   "outputs": [
    {
     "name": "stdout",
     "output_type": "stream",
     "text": [
      "<class 'str'>\n"
     ]
    }
   ],
   "source": [
    "print(type(Z))\n"
   ]
  },
  {
   "cell_type": "code",
   "execution_count": 18,
   "id": "5782a7ff-d064-4880-9464-bc275afbac59",
   "metadata": {},
   "outputs": [
    {
     "name": "stdout",
     "output_type": "stream",
     "text": [
      "<class 'str'>\n"
     ]
    }
   ],
   "source": [
    "print(type(Z))"
   ]
  },
  {
   "cell_type": "code",
   "execution_count": 19,
   "id": "59ef5213-a8be-4e73-88ac-31b8ecc83844",
   "metadata": {},
   "outputs": [
    {
     "name": "stdout",
     "output_type": "stream",
     "text": [
      "<class 'list'>\n"
     ]
    }
   ],
   "source": [
    "print(type(L))"
   ]
  },
  {
   "cell_type": "code",
   "execution_count": 20,
   "id": "ad951b82-5d8d-4bb6-8105-ff66a9510769",
   "metadata": {},
   "outputs": [
    {
     "data": {
      "text/plain": [
       "'Q4. How do you write and execute a Python script from the command line?\\nAns.\\nTo write and execute a Python script from the command line, we can follow these steps:\\nWrite Your Python Script:\\nOpen a text editor (like Notepad, VS Code, or any code editor you prefer) and write your Python cod# my_script.py\\nprint(\"Hello, Python!\")\\n\\n\\ne. Save the file with a .py extension.\\n'"
      ]
     },
     "execution_count": 20,
     "metadata": {},
     "output_type": "execute_result"
    }
   ],
   "source": [
    "\"\"\"Q4. How do you write and execute a Python script from the command line?\n",
    "Ans.\n",
    "To write and execute a Python script from the command line, we can follow these steps:\n",
    "Write Your Python Script:\n",
    "Open a text editor (like Notepad, VS Code, or any code editor you prefer) and write your Python cod# my_script.py\n",
    "print(\"Hello, Python!\")\n",
    "\n",
    "\n",
    "e. Save the file with a .py extension.\n",
    "\"\"\""
   ]
  },
  {
   "cell_type": "code",
   "execution_count": 26,
   "id": "4ee229a5-3ded-4db1-a530-4dff1f6d0c46",
   "metadata": {},
   "outputs": [
    {
     "name": "stdout",
     "output_type": "stream",
     "text": [
      "[2, 3]\n"
     ]
    }
   ],
   "source": [
    "#Q5. Given a list my_list = [1, 2, 3, 4, 5], write the code to slice the list and obtain the sub-list [2, 3].\n",
    "#Ans. \n",
    "my_list = [1,2,3,4,5]\n",
    "Sub_list = my_list[1:3]\n",
    "print(Sub_list)\n"
   ]
  },
  {
   "cell_type": "code",
   "execution_count": 27,
   "id": "95c45590-31f8-47cc-b445-57f0e7a0d212",
   "metadata": {},
   "outputs": [],
   "source": [
    "#Q6. What is a complex number in mathematics, and how is it represented in Python?\n",
    "#Ans. In mathematics, a complex number is a number of the form a + bi, where a and b are real numbers, and i is the imaginary unit (defined as the square root of -1). The real part is a, and the imaginary part is b.\n",
    "#In Python, complex numbers are represented using the j or J suffix to denote the imaginary part\n",
    "#Example:-\n",
    "complex_num = 4 + 5j"
   ]
  },
  {
   "cell_type": "code",
   "execution_count": 28,
   "id": "e6da4821-08f1-4752-8b3c-f137ec6efbce",
   "metadata": {},
   "outputs": [
    {
     "name": "stdout",
     "output_type": "stream",
     "text": [
      "<class 'complex'>\n"
     ]
    }
   ],
   "source": [
    "print(type(complex_num))"
   ]
  },
  {
   "cell_type": "code",
   "execution_count": 30,
   "id": "79dd6490-ef15-4b1e-9399-8a22312b4db8",
   "metadata": {},
   "outputs": [
    {
     "name": "stdout",
     "output_type": "stream",
     "text": [
      "25\n"
     ]
    }
   ],
   "source": [
    "#Q7. What is the correct way to declare a variable named age and assign the value 25 to it?\n",
    "#Ans.\n",
    "age = 25\n",
    "print(age)"
   ]
  },
  {
   "cell_type": "code",
   "execution_count": 31,
   "id": "2381f7b9-5812-4a15-afc1-6ec81ab70fb4",
   "metadata": {},
   "outputs": [
    {
     "name": "stdout",
     "output_type": "stream",
     "text": [
      "<class 'float'>\n"
     ]
    }
   ],
   "source": [
    "#Q8. Declare a variable named price and assign the value 9.99 to it. What data type does this variable\n",
    "#belong to?\n",
    "#Ans.\n",
    "Price = 9.99\n",
    "print(type(Price))\n"
   ]
  },
  {
   "cell_type": "code",
   "execution_count": 32,
   "id": "8bccf228-c4a2-43d6-a857-ec3317bd2a33",
   "metadata": {},
   "outputs": [
    {
     "ename": "SyntaxError",
     "evalue": "invalid character '”' (U+201D) (2266241163.py, line 4)",
     "output_type": "error",
     "traceback": [
      "\u001b[0;36m  Cell \u001b[0;32mIn[32], line 4\u001b[0;36m\u001b[0m\n\u001b[0;31m    name =”Pavan Bairagi”\u001b[0m\n\u001b[0m          ^\u001b[0m\n\u001b[0;31mSyntaxError\u001b[0m\u001b[0;31m:\u001b[0m invalid character '”' (U+201D)\n"
     ]
    }
   ],
   "source": [
    "#Q9. Create a variable named name and assign your full name to it as a string. How would you print the\n",
    "#value of this variable?\n",
    "#Ans.\n",
    "name = \"Pavan Bairagi\"\n",
    "pri"
   ]
  },
  {
   "cell_type": "code",
   "execution_count": null,
   "id": "b98e5a32-f81c-45f6-b4c2-578025fc5399",
   "metadata": {},
   "outputs": [],
   "source": []
  }
 ],
 "metadata": {
  "kernelspec": {
   "display_name": "Python 3 (ipykernel)",
   "language": "python",
   "name": "python3"
  },
  "language_info": {
   "codemirror_mode": {
    "name": "ipython",
    "version": 3
   },
   "file_extension": ".py",
   "mimetype": "text/x-python",
   "name": "python",
   "nbconvert_exporter": "python",
   "pygments_lexer": "ipython3",
   "version": "3.10.8"
  }
 },
 "nbformat": 4,
 "nbformat_minor": 5
}
